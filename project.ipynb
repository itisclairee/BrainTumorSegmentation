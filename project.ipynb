{
 "cells": [
  {
   "cell_type": "code",
   "execution_count": 29,
   "metadata": {},
   "outputs": [
    {
     "name": "stdout",
     "output_type": "stream",
     "text": [
      "Shape:  (240, 240, 155)\n",
      "Dtype:  float64\n",
      "Min:  0.0\n",
      "Max:  1854.603271484375\n"
     ]
    }
   ],
   "source": [
    "import nibabel as nib\n",
    "import os\n",
    "import numpy as np\n",
    "import matplotlib.pyplot as plt\n",
    "from matplotlib.colors import ListedColormap, BoundaryNorm\n",
    "import matplotlib.patches as mpatches\n",
    "import ipywidgets as widgets\n",
    "from ipywidgets import interact\n",
    "from scipy.ndimage import rotate\n",
    "\n",
    "# Directory di Chiara\n",
    "TRAIN_DATASET_PATH = \"/Users/chiaracangelosi/Documents/1-Uni/DataScience/Dataset/BraTS2020_TrainingData/MICCAI_BraTS2020_TrainingData/\"\n",
    "\n",
    "#Directory di Gianluca\n",
    "#TRAIN_DATASET_PATH= \"C:/Users/g2not/Desktop/Università/Data Mining and Machine Learning/Progetto/brats20-dataset-training-validation/BraTS2020_TrainingData/MICCAI_BraTS2020_TrainingData\"\n",
    "\n",
    "# Percorso completo del file FLAIR\n",
    "file_path = os.path.join(TRAIN_DATASET_PATH, \"BraTS20_Training_355\", \"BraTS20_Training_355_flair.nii\")\n",
    "\n",
    "# Carica il file .nii come array NumPy\n",
    "test_image_flair = nib.load(file_path).get_fdata()\n",
    "\n",
    "# Stampa informazioni sull'immagine\n",
    "print(\"Shape: \", test_image_flair.shape)\n",
    "print(\"Dtype: \", test_image_flair.dtype)\n",
    "print(\"Min: \", test_image_flair.min())\n",
    "print(\"Max: \", test_image_flair.max())"
   ]
  },
  {
   "cell_type": "markdown",
   "metadata": {},
   "source": [
    "N.B. nel progetto github viene effettuato il rescaling slice-wise"
   ]
  },
  {
   "cell_type": "code",
   "execution_count": 7,
   "metadata": {},
   "outputs": [
    {
     "name": "stdout",
     "output_type": "stream",
     "text": [
      "Rescaled min: 0.0\n",
      "Rescaled max: 1.0\n"
     ]
    }
   ],
   "source": [
    "# Rescaling voxel-wise a [0, 1]\n",
    "test_image_flair = (test_image_flair - np.min(test_image_flair)) / (np.max(test_image_flair) - np.min(test_image_flair))\n",
    "\n",
    "# Verifica\n",
    "print(\"Rescaled min:\", test_image_flair.min())\n",
    "print(\"Rescaled max:\", test_image_flair.max())"
   ]
  },
  {
   "cell_type": "code",
   "execution_count": 8,
   "metadata": {},
   "outputs": [],
   "source": [
    "# Carica il file .nii come array NumPy\n",
    "test_image_t1 = nib.load(TRAIN_DATASET_PATH + 'BraTS20_Training_355/BraTS20_Training_355_t1.nii').get_fdata()\n",
    "# Rescaling voxel-wise a [0, 1]\n",
    "test_image_t1 = (test_image_t1 - np.min(test_image_t1)) / (np.max(test_image_t1) - np.min(test_image_t1))\n",
    "\n",
    "# Carica il file .nii come array NumPy\n",
    "test_image_t1ce = nib.load(TRAIN_DATASET_PATH + 'BraTS20_Training_355/BraTS20_Training_355_t1ce.nii').get_fdata()\n",
    "# Rescaling voxel-wise a [0, 1]\n",
    "test_image_t1ce = (test_image_t1ce - np.min(test_image_t1ce)) / (np.max(test_image_t1ce) - np.min(test_image_t1ce))\n",
    "\n",
    "# Carica il file .nii come array NumPy\n",
    "test_image_t2 = nib.load(TRAIN_DATASET_PATH + 'BraTS20_Training_355/BraTS20_Training_355_t2.nii').get_fdata()\n",
    "# Rescaling voxel-wise a [0, 1]\n",
    "test_image_t2 = (test_image_t2 - np.min(test_image_t2)) / (np.max(test_image_t2) - np.min(test_image_t2))\n",
    "\n",
    "test_image_seg = nib.load(TRAIN_DATASET_PATH + 'BraTS20_Training_355/BraTS20_Training_355_seg.nii').get_fdata()\n"
   ]
  },
  {
   "cell_type": "code",
   "execution_count": 27,
   "metadata": {},
   "outputs": [
    {
     "data": {
      "application/vnd.jupyter.widget-view+json": {
       "model_id": "ca5fcee4dfca4f48a400d80a08890937",
       "version_major": 2,
       "version_minor": 0
      },
      "text/plain": [
       "interactive(children=(IntSlider(value=95, description='Slice:', max=154), Output()), _dom_classes=('widget-int…"
      ]
     },
     "metadata": {},
     "output_type": "display_data"
    },
    {
     "data": {
      "text/plain": [
       "<function __main__.show_slice(slice_idx)>"
      ]
     },
     "execution_count": 27,
     "metadata": {},
     "output_type": "execute_result"
    }
   ],
   "source": [
    "# === Colori per la maschera ===\n",
    "labels = [0, 1, 2, 4]\n",
    "colors = ['black', 'green', 'yellow', 'lightblue']\n",
    "class_names = ['Background (0)', 'NCR & NET (1)', 'Edema (2)', 'Enhancing Tumor (4)']\n",
    "cmap_mask = ListedColormap(colors)\n",
    "norm = BoundaryNorm([0, 0.5, 1.5, 3, 5], cmap_mask.N)\n",
    "\n",
    "# === Visualizzazione dinamica ===\n",
    "def show_slice(slice_idx):\n",
    "    fig, axs = plt.subplots(2, 3, figsize=(12, 8))\n",
    "\n",
    "    # MRI modalities\n",
    "    titles = ['T1', 'T1ce', 'T2', 'FLAIR']\n",
    "    volumes = [test_image_t1, test_image_t1ce, test_image_t2, test_image_flair]\n",
    "\n",
    "    for i in range(4):\n",
    "        axs[i // 3, i % 3].imshow(volumes[i][:, :, slice_idx], cmap='gray')\n",
    "        axs[i // 3, i % 3].set_title(titles[i])\n",
    "        axs[i // 3, i % 3].axis('off')\n",
    "\n",
    "    # Mask\n",
    "    axs[1, 1].imshow(test_image_seg[:, :, slice_idx], cmap=cmap_mask, norm=norm)\n",
    "    axs[1, 1].set_title('Mask')\n",
    "    axs[1, 1].axis('off')\n",
    "\n",
    "    # Legend\n",
    "    axs[1, 2].axis('off')\n",
    "    patches = [mpatches.Patch(color=colors[i], label=class_names[i]) for i in range(len(labels))]\n",
    "    axs[1, 2].legend(handles=patches, loc='center')\n",
    "\n",
    "    plt.tight_layout()\n",
    "    plt.show()\n",
    "\n",
    "# === Interfaccia interattiva ===\n",
    "interact(\n",
    "    show_slice,\n",
    "    slice_idx=widgets.IntSlider(\n",
    "        value=95,\n",
    "        min=0,\n",
    "        max=test_image_t1.shape[2] - 1,\n",
    "        step=1,\n",
    "        description='Slice:',\n",
    "        continuous_update=True\n",
    "    )\n",
    ")"
   ]
  },
  {
   "cell_type": "code",
   "execution_count": 39,
   "metadata": {},
   "outputs": [
    {
     "data": {
      "application/vnd.jupyter.widget-view+json": {
       "model_id": "6dc9992c93f34a19a13c7b6bd18df78c",
       "version_major": 2,
       "version_minor": 0
      },
      "text/plain": [
       "interactive(children=(IntSlider(value=95, description='Slice:', max=154), Output()), _dom_classes=('widget-int…"
      ]
     },
     "metadata": {},
     "output_type": "display_data"
    },
    {
     "data": {
      "text/plain": [
       "<function __main__.show_views(slice_idx)>"
      ]
     },
     "execution_count": 39,
     "metadata": {},
     "output_type": "execute_result"
    }
   ],
   "source": [
    "# === Funzione per visualizzare le tre viste ===\n",
    "def show_views(slice_idx):\n",
    "    fig = plt.figure(figsize=(12, 5))\n",
    "    \n",
    "    # Transverse View (axial): [x, y, slice]\n",
    "    ax1 = fig.add_subplot(1, 3, 1)\n",
    "    ax1.imshow(test_image_t1ce[:, :, slice_idx], cmap='gray')\n",
    "    ax1.set_title(f'T1 - Transverse View (Z={slice_idx})')\n",
    "    ax1.axis('off')\n",
    "    \n",
    "    # Frontal View (coronal): [x, slice, z] → rotate for readability\n",
    "    ax2 = fig.add_subplot(1, 3, 2)\n",
    "    ax2.imshow(rotate(test_image_t1ce[:, slice_idx, :], 90, reshape=True), cmap='gray')\n",
    "    ax2.set_title(f'T1 - Frontal View (Y={slice_idx})')\n",
    "    ax2.axis('off')\n",
    "    \n",
    "    # Sagittal View: [slice, y, z] → rotate for readability\n",
    "    ax3 = fig.add_subplot(1, 3, 3)\n",
    "    ax3.imshow(rotate(test_image_t1ce[slice_idx, :, :], 90, reshape=True), cmap='gray')\n",
    "    ax3.set_title(f'T1 - Sagittal View (X={slice_idx})')\n",
    "    ax3.axis('off')\n",
    "    \n",
    "    plt.tight_layout()\n",
    "    plt.show()\n",
    "\n",
    "# === Slider interattivo ===\n",
    "# Usa la dimensione più piccola per non eccedere l'indice valido in nessuna direzione\n",
    "max_index = min(test_image_t1ce.shape)\n",
    "\n",
    "interact(\n",
    "    show_views,\n",
    "    slice_idx=widgets.IntSlider(\n",
    "        value=95,\n",
    "        min=0,\n",
    "        max=max_index - 1,\n",
    "        step=1,\n",
    "        description='Slice:',\n",
    "        continuous_update=True\n",
    "    )\n",
    ")"
   ]
  },
  {
   "cell_type": "code",
   "execution_count": 40,
   "metadata": {},
   "outputs": [
    {
     "data": {
      "application/vnd.jupyter.widget-view+json": {
       "model_id": "5b014e38a4964d92823f43e9047bfd79",
       "version_major": 2,
       "version_minor": 0
      },
      "text/plain": [
       "interactive(children=(IntSlider(value=95, description='Slice:', max=154), Output()), _dom_classes=('widget-int…"
      ]
     },
     "metadata": {},
     "output_type": "display_data"
    },
    {
     "data": {
      "text/plain": [
       "<function __main__.show_segmented_slice(slice_idx)>"
      ]
     },
     "execution_count": 40,
     "metadata": {},
     "output_type": "execute_result"
    }
   ],
   "source": [
    "# === Mappa colori e normalizzazione (adatta a BraTS ad esempio)\n",
    "labels = [0, 1, 2, 4]\n",
    "colors = ['black', 'green', 'yellow', 'lightblue']\n",
    "class_names = ['Background (0)', 'NCR/NET (1)', 'Edema (2)', 'Enhancing Tumor (4)']\n",
    "cmap = ListedColormap(colors)\n",
    "norm = BoundaryNorm([0, 0.5, 1.5, 3, 5], len(colors))\n",
    "\n",
    "# === Funzione dinamica\n",
    "def show_segmented_slice(slice_idx):\n",
    "    # Isola ogni classe come maschera separata (usando NaN per trasparenza)\n",
    "    seg_0 = test_image_seg.copy()\n",
    "    seg_0[seg_0 != 0] = np.nan\n",
    "    \n",
    "    seg_1 = test_image_seg.copy()\n",
    "    seg_1[seg_1 != 1] = np.nan\n",
    "    \n",
    "    seg_2 = test_image_seg.copy()\n",
    "    seg_2[seg_2 != 2] = np.nan\n",
    "    \n",
    "    seg_4 = test_image_seg.copy()\n",
    "    seg_4[seg_4 != 4] = np.nan\n",
    "\n",
    "    # Legenda personalizzata\n",
    "    legend = [plt.Rectangle((0, 0), 1, 1, color=cmap(i), label=class_names[i]) for i in range(len(class_names))]\n",
    "\n",
    "    # Plot\n",
    "    fig, ax = plt.subplots(1, 5, figsize=(20, 5))\n",
    "\n",
    "    ax[0].imshow(test_image_seg[:, :, slice_idx], cmap=cmap, norm=norm)\n",
    "    ax[0].set_title('Original Segmentation')\n",
    "    ax[0].legend(handles=legend, loc='lower left')\n",
    "    ax[0].axis('off')\n",
    "\n",
    "    ax[1].imshow(seg_0[:, :, slice_idx], cmap=cmap, norm=norm)\n",
    "    ax[1].set_title('Class 0 (Background)')\n",
    "    ax[1].axis('off')\n",
    "\n",
    "    ax[2].imshow(seg_1[:, :, slice_idx], cmap=cmap, norm=norm)\n",
    "    ax[2].set_title('Class 1 (NCR/NET)')\n",
    "    ax[2].axis('off')\n",
    "\n",
    "    ax[3].imshow(seg_2[:, :, slice_idx], cmap=cmap, norm=norm)\n",
    "    ax[3].set_title('Class 2 (Edema)')\n",
    "    ax[3].axis('off')\n",
    "\n",
    "    ax[4].imshow(seg_4[:, :, slice_idx], cmap=cmap, norm=norm)\n",
    "    ax[4].set_title('Class 4 (Enhancing Tumor)')\n",
    "    ax[4].axis('off')\n",
    "\n",
    "    plt.tight_layout()\n",
    "    plt.show()\n",
    "\n",
    "# === Slider interattivo\n",
    "interact(\n",
    "    show_segmented_slice,\n",
    "    slice_idx=widgets.IntSlider(\n",
    "        value=95,\n",
    "        min=0,\n",
    "        max=test_image_seg.shape[2] - 1,\n",
    "        step=1,\n",
    "        description='Slice:',\n",
    "        continuous_update=True\n",
    "    )\n",
    ")"
   ]
  }
 ],
 "metadata": {
  "kernelspec": {
   "display_name": "base",
   "language": "python",
   "name": "python3"
  },
  "language_info": {
   "codemirror_mode": {
    "name": "ipython",
    "version": 3
   },
   "file_extension": ".py",
   "mimetype": "text/x-python",
   "name": "python",
   "nbconvert_exporter": "python",
   "pygments_lexer": "ipython3",
   "version": "3.12.4"
  }
 },
 "nbformat": 4,
 "nbformat_minor": 2
}
