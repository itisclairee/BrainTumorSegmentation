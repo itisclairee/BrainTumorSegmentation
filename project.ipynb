{
 "cells": [
  {
   "cell_type": "markdown",
   "metadata": {},
   "source": [
    "Progetto"
   ]
  },
  {
   "cell_type": "code",
   "execution_count": 6,
   "metadata": {},
   "outputs": [
    {
     "name": "stdout",
     "output_type": "stream",
     "text": [
      "Shape:  (240, 240, 155)\n",
      "Dtype:  float64\n",
      "Min:  0.0\n",
      "Max:  1854.603271484375\n"
     ]
    }
   ],
   "source": [
    "import nibabel as nib\n",
    "import os\n",
    "\n",
    "# Directory di Chiara\n",
    "TRAIN_DATASET_PATH = \"/Users/chiaracangelosi/Documents/1-Uni/DataScience/Dataset/BraTS2020_TrainingData/MICCAI_BraTS2020_TrainingData\"\n",
    "\n",
    "# Percorso completo del file FLAIR\n",
    "file_path = os.path.join(TRAIN_DATASET_PATH, \"BraTS20_Training_355\", \"BraTS20_Training_355_flair.nii\")\n",
    "\n",
    "# Carica il file .nii come array NumPy\n",
    "test_image_flair = nib.load(file_path).get_fdata()\n",
    "\n",
    "# Stampa informazioni sull'immagine\n",
    "print(\"Shape: \", test_image_flair.shape)\n",
    "print(\"Dtype: \", test_image_flair.dtype)\n",
    "print(\"Min: \", test_image_flair.min())\n",
    "print(\"Max: \", test_image_flair.max())"
   ]
  }
 ],
 "metadata": {
  "kernelspec": {
   "display_name": "Python 3",
   "language": "python",
   "name": "python3"
  },
  "language_info": {
   "codemirror_mode": {
    "name": "ipython",
    "version": 3
   },
   "file_extension": ".py",
   "mimetype": "text/x-python",
   "name": "python",
   "nbconvert_exporter": "python",
   "pygments_lexer": "ipython3",
   "version": "3.12.4"
  }
 },
 "nbformat": 4,
 "nbformat_minor": 2
}
