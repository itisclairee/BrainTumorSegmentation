{
 "cells": [
  {
   "cell_type": "markdown",
   "metadata": {},
   "source": [
    "Progetto"
   ]
  },
  {
   "cell_type": "code",
   "execution_count": 1,
   "metadata": {},
   "outputs": [
    {
     "name": "stdout",
     "output_type": "stream",
     "text": [
      "Collecting nibabel\n",
      "  Downloading nibabel-5.3.2-py3-none-any.whl.metadata (9.1 kB)\n",
      "Requirement already satisfied: numpy>=1.22 in c:\\users\\g2not\\anaconda3\\lib\\site-packages (from nibabel) (1.26.4)\n",
      "Requirement already satisfied: packaging>=20 in c:\\users\\g2not\\anaconda3\\lib\\site-packages (from nibabel) (23.2)\n",
      "Requirement already satisfied: typing-extensions>=4.6 in c:\\users\\g2not\\anaconda3\\lib\\site-packages (from nibabel) (4.13.2)\n",
      "Downloading nibabel-5.3.2-py3-none-any.whl (3.3 MB)\n",
      "   ---------------------------------------- 0.0/3.3 MB ? eta -:--:--\n",
      "   ---------------------------------------- 0.0/3.3 MB ? eta -:--:--\n",
      "   ---------------------------------------- 0.0/3.3 MB 653.6 kB/s eta 0:00:05\n",
      "   -- ------------------------------------- 0.2/3.3 MB 2.5 MB/s eta 0:00:02\n",
      "   ------- -------------------------------- 0.6/3.3 MB 4.4 MB/s eta 0:00:01\n",
      "   -------------------- ------------------- 1.7/3.3 MB 9.0 MB/s eta 0:00:01\n",
      "   ------------------------------ --------- 2.5/3.3 MB 10.8 MB/s eta 0:00:01\n",
      "   ---------------------------------------- 3.3/3.3 MB 12.3 MB/s eta 0:00:00\n",
      "Installing collected packages: nibabel\n",
      "Successfully installed nibabel-5.3.2\n"
     ]
    }
   ],
   "source": [
    "!pip install nibabel"
   ]
  },
  {
   "cell_type": "code",
   "execution_count": 4,
   "metadata": {},
   "outputs": [
    {
     "name": "stdout",
     "output_type": "stream",
     "text": [
      "Shape:  (240, 240, 155)\n",
      "Dtype:  float64\n",
      "Min:  0.0\n",
      "Max:  1854.603271484375\n"
     ]
    }
   ],
   "source": [
    "import nibabel as nib\n",
    "import os\n",
    "\n",
    "# Directory di Chiara\n",
    "# TRAIN_DATASET_PATH = \"/Users/chiaracangelosi/Documents/1-Uni/DataScience/Dataset/BraTS2020_TrainingData/MICCAI_BraTS2020_TrainingData\"\n",
    "\n",
    "#Directory di Gianluca\n",
    "TRAIN_DATASET_PATH= \"C:/Users/g2not/Desktop/Università/Data Mining and Machine Learning/Progetto/brats20-dataset-training-validation/BraTS2020_TrainingData/MICCAI_BraTS2020_TrainingData\"\n",
    "\n",
    "# Percorso completo del file FLAIR\n",
    "file_path = os.path.join(TRAIN_DATASET_PATH, \"BraTS20_Training_355\", \"BraTS20_Training_355_flair.nii\")\n",
    "\n",
    "# Carica il file .nii come array NumPy\n",
    "test_image_flair = nib.load(file_path).get_fdata()\n",
    "\n",
    "# Stampa informazioni sull'immagine\n",
    "print(\"Shape: \", test_image_flair.shape)\n",
    "print(\"Dtype: \", test_image_flair.dtype)\n",
    "print(\"Min: \", test_image_flair.min())\n",
    "print(\"Max: \", test_image_flair.max())"
   ]
  }
 ],
 "metadata": {
  "kernelspec": {
   "display_name": "base",
   "language": "python",
   "name": "python3"
  },
  "language_info": {
   "codemirror_mode": {
    "name": "ipython",
    "version": 3
   },
   "file_extension": ".py",
   "mimetype": "text/x-python",
   "name": "python",
   "nbconvert_exporter": "python",
   "pygments_lexer": "ipython3",
   "version": "3.12.4"
  }
 },
 "nbformat": 4,
 "nbformat_minor": 2
}
